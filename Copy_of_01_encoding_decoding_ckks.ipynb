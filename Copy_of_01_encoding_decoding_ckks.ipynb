{
  "cells": [
    {
      "cell_type": "markdown",
      "metadata": {
        "id": "view-in-github",
        "colab_type": "text"
      },
      "source": [
        "<a href=\"https://colab.research.google.com/github/phapdn/Encrypted_NN/blob/master/Copy_of_01_encoding_decoding_ckks.ipynb\" target=\"_parent\"><img src=\"https://colab.research.google.com/assets/colab-badge.svg\" alt=\"Open In Colab\"/></a>"
      ]
    },
    {
      "cell_type": "markdown",
      "metadata": {
        "id": "BlicWHephtjE"
      },
      "source": [
        "# Introduction to encoding in CKKS"
      ]
    },
    {
      "cell_type": "markdown",
      "metadata": {
        "id": "kShRBVUQhtjG"
      },
      "source": [
        "CKKS exploits the rich structure of integer polynomial rings for its plaintext and ciphertext spaces. Nonetheless, data comes more often in the form of vectors than polynomials.\n",
        "\n",
        "Therefore it becomes necessary to encode our input $z \\in \\mathbb{C}^{N/2}$, into a polynomial $m(X) \\in \\mathbb{Z}[X]/(X^N + 1)$. \n",
        "\n",
        "We will denote by $N$ the degree of our polynomial degree modulus, which will be a power of 2. We denote by $\\Phi_M(X) = X^N + 1$ the $m$-th [cyclotomic polynomial](https://en.wikipedia.org/wiki/Cyclotomic_polynomial) (note that $M=2N$). The plaintext space will be the polynomial ring $\\mathcal{R} = \\mathbb{Z}[X]/(X^N + 1)$. Let us denote by $\\xi_M$, the $M$-th root of unity : $\\xi_M = e^{2 i \\pi / M}$.\n",
        "\n",
        "To understand how we can encode a vector into a polynomial, and how the computation performed on the polynomial will be reflected in the underlying vector, we will first see a vanilla example, where we simply encode a vector $z \\in \\mathbb{C}^{N}$ into a polynomial $m(X) \\in \\mathbb{C}[X]/(X^N + 1)$. Then we will cover the actual encoding of CKKS, which takes a vector $z \\in \\mathbb{C}^{N/2}$, and encodes it in a polynomial $m(X) \\in \\mathbb{Z}[X]/(X^N + 1)$.\n",
        "\n",
        "## Vanilla encoding\n",
        "\n",
        "Here we will cover the simple case of encoding $z \\in \\mathbb{C}^{N}$, into a polynomial $m(X) \\in \\mathbb{C}[X]/(X^N + 1)$. \n",
        "\n",
        "To do so, we will use the [canonical embedding](https://en.wikipedia.org/wiki/Embedding) $\\sigma : \\mathbb{C}[X]/(X^N +1) \\rightarrow \\mathbb{C}^N$, which will serve to decode and encode our vectors.\n",
        "\n",
        "The idea is simple, to decode a polynomial $m(X)$ into a vector $z$, we will simply evaluate the polynomial on certain values, which will be the roots of the cyclotomic polynomial $\\Phi_M(X) = X^N + 1$. Those $N$ roots are : $\\xi, \\xi^3, ..., \\xi^{2 N - 1}$. \n",
        "\n",
        "So to decode a polynomial $m(X)$, we will simply define $\\sigma(m) = (m(\\xi), m(\\xi^3), ..., m(\\xi^{2 N - 1})) \\in \\mathbb{C}^N$. Note that $\\sigma$ defines an isomorphism, which means it is a bijective homomorphism, therefore any vector will be uniquely encoded into its corresponding polynomial, and vice-versa.\n",
        "\n",
        "The tricky part is the encoding of a vector $z \\in \\mathbb{C}^N$ into the corresponding polynomial, which means computing the inverse $\\sigma^{-1}$. The problem is therefore to find a polynomial $m(X) = \\sum_{i=0}^{N-1} \\alpha_i X^i \\in \\mathbb{C}[X]/(X^N + 1)$, given a vector $z \\in \\mathbb{C}^N$, such that $\\sigma(m) = (m(\\xi), m(\\xi^3), ..., m(\\xi^{2 N - 1})) = (z_1,...,z_N)$.\n",
        "\n",
        "Nonetheless, if we write this down, this means that we have the following system : \n",
        "\n",
        "$\\sum_{j=0}^{N-1} \\alpha_j (\\xi^{2 i - 1})^j = z_i, i=1,...,N$.\n",
        "\n",
        "This can be viewed as a linear equation : \n",
        "\n",
        "$A \\alpha = z$, with $A$ the [Vandermonde matrix](https://en.wikipedia.org/wiki/Vandermonde_matrix) of the $(\\xi^{2 i -1})_{i=1,...,N}$, $\\alpha$ the vector of the polynomial coefficients, and $z$ the vector we want to encode.\n",
        "\n",
        "Therefore we have that : $\\alpha = A^{-1} z$, and that $\\sigma^{-1}(z) = \\sum_{i=0}^{N-1} \\alpha_i X^i \\in \\mathbb{C}[X]/(X^N + 1)$."
      ]
    },
    {
      "cell_type": "markdown",
      "metadata": {
        "id": "gf_4gUK3htjH"
      },
      "source": [
        "### Example"
      ]
    },
    {
      "cell_type": "markdown",
      "metadata": {
        "id": "Xx_6IyNZhtjH"
      },
      "source": [
        "We will see an example now to better understand what this means.\n",
        "\n",
        "Let $M = 8$, $N = \\frac{M}{2}= 4$, $\\Phi_M(X) = X^4 + 1$, and $\\omega = e^{\\frac{2 i \\pi}{8}} = e^{\\frac{i \\pi}{4}}$.\n",
        "Our goal here is to encode the following vectors : $[1, 2, 3, 4]$ and $[-1, -2, -3, -4]$, decode them, add and multiply their polynomial and decode it."
      ]
    },
    {
      "cell_type": "markdown",
      "metadata": {
        "ExecuteTime": {
          "end_time": "2020-05-19T12:37:43.119584Z",
          "start_time": "2020-05-19T12:37:42.812917Z"
        },
        "id": "QOVuXb0BhtjH"
      },
      "source": [
        "![title](https://raw.githubusercontent.com/dhuynh95/homomorphic_encryption_intro/master/images/roots.PNG)\n",
        "<center>Roots of $X^4 + 1$ (source : <a href=\"https://heat-project.eu/School/Chris%20Peikert/slides-heat2.pdf\">Cryptography from Rings, HEAT summer school 2016)</a></center>"
      ]
    },
    {
      "cell_type": "markdown",
      "metadata": {
        "id": "QOW-tQz0htjI"
      },
      "source": [
        "As we saw, in order to decode a polynomial, we simply need to evaluate it on powers of an $M$-th root of unity. Here we choose $\\xi_M = \\omega = e^{\\frac{i \\pi}{4}}$.\n",
        "\n",
        "Once we have $\\xi$ and $M$, we can define both $\\sigma$ and its inverse $\\sigma^{-1}$, respectively the decoding and the encoding."
      ]
    },
    {
      "cell_type": "code",
      "execution_count": null,
      "metadata": {
        "ExecuteTime": {
          "end_time": "2020-05-23T17:09:55.396205Z",
          "start_time": "2020-05-23T17:09:55.177934Z"
        },
        "id": "1QTJFik_htjI",
        "outputId": "1bdc1ba1-978f-4066-8575-552f834d5b84"
      },
      "outputs": [
        {
          "data": {
            "text/plain": [
              "(0.7071067811865476+0.7071067811865475j)"
            ]
          },
          "execution_count": 1,
          "metadata": {},
          "output_type": "execute_result"
        }
      ],
      "source": [
        "import numpy as np\n",
        "\n",
        "# First we set the parameters\n",
        "M = 8\n",
        "N = M //2\n",
        "\n",
        "# We set xi, which will be used in our computations\n",
        "xi = np.exp(2 * np.pi * 1j / M)\n",
        "xi"
      ]
    },
    {
      "cell_type": "code",
      "execution_count": null,
      "metadata": {
        "ExecuteTime": {
          "end_time": "2020-05-23T17:09:55.414687Z",
          "start_time": "2020-05-23T17:09:55.402321Z"
        },
        "id": "hDJ6XFE3htjJ"
      },
      "outputs": [],
      "source": [
        "from numpy.polynomial import Polynomial\n",
        "\n",
        "class CKKSEncoder:\n",
        "    \"\"\"Basic CKKS encoder to encode complex vectors into polynomials.\"\"\"\n",
        "    \n",
        "    def __init__(self, M: int):\n",
        "        \"\"\"Initialization of the encoder for M a power of 2. \n",
        "        \n",
        "        xi, which is an M-th root of unity will, be used as a basis for our computations.\n",
        "        \"\"\"\n",
        "        self.xi = np.exp(2 * np.pi * 1j / M)\n",
        "        self.M = M\n",
        "        \n",
        "    @staticmethod\n",
        "    def vandermonde(xi: np.complex128, M: int) -> np.array:\n",
        "        \"\"\"Computes the Vandermonde matrix from a m-th root of unity.\"\"\"\n",
        "        \n",
        "        N = M //2\n",
        "        matrix = []\n",
        "        # We will generate each row of the matrix\n",
        "        for i in range(N):\n",
        "            # For each row we select a different root\n",
        "            root = xi ** (2 * i + 1)\n",
        "            row = []\n",
        "\n",
        "            # Then we store its powers\n",
        "            for j in range(N):\n",
        "                row.append(root ** j)\n",
        "            matrix.append(row)\n",
        "        return matrix\n",
        "    \n",
        "    def sigma_inverse(self, b: np.array) -> Polynomial:\n",
        "        \"\"\"Encodes the vector b in a polynomial using an M-th root of unity.\"\"\"\n",
        "\n",
        "        # First we create the Vandermonde matrix\n",
        "        A = CKKSEncoder.vandermonde(self.xi, M)\n",
        "\n",
        "        # Then we solve the system\n",
        "        coeffs = np.linalg.solve(A, b)\n",
        "\n",
        "        # Finally we output the polynomial\n",
        "        p = Polynomial(coeffs)\n",
        "        return p\n",
        "\n",
        "    def sigma(self, p: Polynomial) -> np.array:\n",
        "        \"\"\"Decodes a polynomial by applying it to the M-th roots of unity.\"\"\"\n",
        "\n",
        "        outputs = []\n",
        "        N = self.M //2\n",
        "\n",
        "        # We simply apply the polynomial on the roots\n",
        "        for i in range(N):\n",
        "            root = self.xi ** (2 * i + 1)\n",
        "            output = p(root)\n",
        "            outputs.append(output)\n",
        "        return np.array(outputs)"
      ]
    },
    {
      "cell_type": "markdown",
      "metadata": {
        "id": "xQc5RH1UhtjJ"
      },
      "source": [
        "Now we can start experimenting with real values, let's first encode a vector and see how it is encoded."
      ]
    },
    {
      "cell_type": "code",
      "execution_count": null,
      "metadata": {
        "ExecuteTime": {
          "end_time": "2020-05-23T17:09:55.436335Z",
          "start_time": "2020-05-23T17:09:55.420552Z"
        },
        "id": "vYAdCZ-AhtjJ"
      },
      "outputs": [],
      "source": [
        "# First we initialize our encoder\n",
        "encoder = CKKSEncoder(M)"
      ]
    },
    {
      "cell_type": "code",
      "execution_count": null,
      "metadata": {
        "ExecuteTime": {
          "end_time": "2020-05-23T17:09:55.453314Z",
          "start_time": "2020-05-23T17:09:55.442307Z"
        },
        "id": "EEtR1L9mhtjK",
        "outputId": "81cb1ead-ff9a-4ef1-9e77-8166050eaaa2"
      },
      "outputs": [
        {
          "data": {
            "text/plain": [
              "array([1, 2, 3, 4])"
            ]
          },
          "execution_count": 4,
          "metadata": {},
          "output_type": "execute_result"
        }
      ],
      "source": [
        "b = np.array([1, 2, 3, 4])\n",
        "b"
      ]
    },
    {
      "cell_type": "markdown",
      "metadata": {
        "id": "CkxgnYyahtjK"
      },
      "source": [
        "Let's encode the vector now."
      ]
    },
    {
      "cell_type": "code",
      "execution_count": null,
      "metadata": {
        "ExecuteTime": {
          "end_time": "2020-05-23T17:09:55.469589Z",
          "start_time": "2020-05-23T17:09:55.459420Z"
        },
        "id": "2bbzxw39htjK",
        "outputId": "863243df-ec98-425f-8181-7149f47ab2bc"
      },
      "outputs": [
        {
          "data": {
            "text/latex": [
              "$x \\mapsto \\text{(2.5+4.440892098500626e-16j)} + (\\text{(-4.996003610813204e-16+0.7071067811865479j)})\\,x + (\\text{(-3.4694469519536176e-16+0.5000000000000003j)})\\,x^{2} + (\\text{(-8.326672684688674e-16+0.7071067811865472j)})\\,x^{3}$"
            ],
            "text/plain": [
              "Polynomial([ 2.50000000e+00+4.44089210e-16j, -4.99600361e-16+7.07106781e-01j,\n",
              "       -3.46944695e-16+5.00000000e-01j, -8.32667268e-16+7.07106781e-01j], domain=[-1,  1], window=[-1,  1])"
            ]
          },
          "execution_count": 5,
          "metadata": {},
          "output_type": "execute_result"
        }
      ],
      "source": [
        "p = encoder.sigma_inverse(b)\n",
        "p"
      ]
    },
    {
      "cell_type": "markdown",
      "metadata": {
        "id": "QSDnCR09htjK"
      },
      "source": [
        "Let's see now how we can extract the vector we had initially from the polynomial: "
      ]
    },
    {
      "cell_type": "code",
      "execution_count": null,
      "metadata": {
        "ExecuteTime": {
          "end_time": "2020-05-23T17:09:55.486646Z",
          "start_time": "2020-05-23T17:09:55.475335Z"
        },
        "id": "fUs_VWPfhtjK",
        "outputId": "9c2458ee-9833-431e-a8ea-aeb0c4317e6f"
      },
      "outputs": [
        {
          "data": {
            "text/plain": [
              "array([1.-1.11022302e-16j, 2.-4.71844785e-16j, 3.+2.77555756e-17j,\n",
              "       4.+2.22044605e-16j])"
            ]
          },
          "execution_count": 6,
          "metadata": {},
          "output_type": "execute_result"
        }
      ],
      "source": [
        "b_reconstructed = encoder.sigma(p)\n",
        "b_reconstructed"
      ]
    },
    {
      "cell_type": "markdown",
      "metadata": {
        "id": "_5w2kWxuhtjK"
      },
      "source": [
        "We can see that the reconstruction and the initial vector are very close."
      ]
    },
    {
      "cell_type": "code",
      "execution_count": null,
      "metadata": {
        "ExecuteTime": {
          "end_time": "2020-05-23T17:09:55.507427Z",
          "start_time": "2020-05-23T17:09:55.491379Z"
        },
        "id": "6vZMvJUuhtjK",
        "outputId": "c03606fa-c30d-4e26-db6f-af8d19defd24"
      },
      "outputs": [
        {
          "data": {
            "text/plain": [
              "6.944442800358888e-16"
            ]
          },
          "execution_count": 7,
          "metadata": {},
          "output_type": "execute_result"
        }
      ],
      "source": [
        "np.linalg.norm(b_reconstructed - b)"
      ]
    },
    {
      "cell_type": "markdown",
      "metadata": {
        "id": "5QIdjFwjhtjL"
      },
      "source": [
        "As stated before, $\\sigma$ is not chosen randomly to encode and decode, but has a lot of nice properties. Among them, $\\sigma$ is an isomorphism, therefore addition and multiplication on polynomials will result in coefficient wise addition and multiplication on the encoded vectors.\n",
        "\n",
        "The homomorphic property of $\\sigma$ is due to the fact that $X^N = 1$ and $\\xi^N = 1$.\n",
        "\n",
        "We can now start to encode several vectors, and see how we can perform homomorphic operations on them and decode it."
      ]
    },
    {
      "cell_type": "code",
      "execution_count": null,
      "metadata": {
        "ExecuteTime": {
          "end_time": "2020-05-23T17:09:55.519400Z",
          "start_time": "2020-05-23T17:09:55.512068Z"
        },
        "id": "H1_XWOJ6htjL"
      },
      "outputs": [],
      "source": [
        "m1 = np.array([1, 2, 3, 4])\n",
        "m2 = np.array([1, -2, 3, -4])"
      ]
    },
    {
      "cell_type": "code",
      "execution_count": null,
      "metadata": {
        "ExecuteTime": {
          "end_time": "2020-05-23T17:09:55.533113Z",
          "start_time": "2020-05-23T17:09:55.522145Z"
        },
        "id": "2fTCGQ5ohtjL"
      },
      "outputs": [],
      "source": [
        "p1 = encoder.sigma_inverse(m1)\n",
        "p2 = encoder.sigma_inverse(m2)"
      ]
    },
    {
      "cell_type": "markdown",
      "metadata": {
        "id": "YO3C2jMfhtjL"
      },
      "source": [
        "We can see that addition is pretty straightforward."
      ]
    },
    {
      "cell_type": "code",
      "execution_count": null,
      "metadata": {
        "ExecuteTime": {
          "end_time": "2020-05-23T17:09:55.554656Z",
          "start_time": "2020-05-23T17:09:55.535927Z"
        },
        "id": "d8Y8ohlvhtjL",
        "outputId": "727c3f18-d5a1-4490-9104-dd5b39b513d3"
      },
      "outputs": [
        {
          "data": {
            "text/latex": [
              "$x \\mapsto \\text{(2.0000000000000004+1.1102230246251565e-16j)} + (\\text{(-0.7071067811865477+0.707106781186547j)})\\,x + (\\text{(2.1094237467877966e-15-1.9999999999999996j)})\\,x^{2} + (\\text{(0.7071067811865466+0.707106781186549j)})\\,x^{3}$"
            ],
            "text/plain": [
              "Polynomial([ 2.00000000e+00+1.11022302e-16j, -7.07106781e-01+7.07106781e-01j,\n",
              "        2.10942375e-15-2.00000000e+00j,  7.07106781e-01+7.07106781e-01j], domain=[-1.,  1.], window=[-1.,  1.])"
            ]
          },
          "execution_count": 10,
          "metadata": {},
          "output_type": "execute_result"
        }
      ],
      "source": [
        "p_add = p1 + p2\n",
        "p_add"
      ]
    },
    {
      "cell_type": "markdown",
      "metadata": {
        "id": "4kS4N_iHhtjL"
      },
      "source": [
        "Here as expected, we see that p1 + p2 decodes correctly to $[2, 0, 6, 0]$."
      ]
    },
    {
      "cell_type": "code",
      "execution_count": null,
      "metadata": {
        "ExecuteTime": {
          "end_time": "2020-05-23T17:09:55.570005Z",
          "start_time": "2020-05-23T17:09:55.559203Z"
        },
        "id": "waD41wldhtjL",
        "outputId": "4cbbe29a-302e-4191-f68e-df8fa5a45f9d"
      },
      "outputs": [
        {
          "data": {
            "text/plain": [
              "array([2.0000000e+00+3.25176795e-17j, 4.4408921e-16-4.44089210e-16j,\n",
              "       6.0000000e+00+1.11022302e-16j, 4.4408921e-16+3.33066907e-16j])"
            ]
          },
          "execution_count": 11,
          "metadata": {},
          "output_type": "execute_result"
        }
      ],
      "source": [
        "encoder.sigma(p_add)"
      ]
    },
    {
      "cell_type": "markdown",
      "metadata": {
        "id": "Hn1WZwRnhtjL"
      },
      "source": [
        "Because when doing multiplication we might have terms whose degree is higher than $N$, we will need to do a modulo operation using $X^N + 1$."
      ]
    },
    {
      "cell_type": "markdown",
      "metadata": {
        "id": "UeOWBADXhtjL"
      },
      "source": [
        "To perform multiplication, we first need to define the polynomial modulus which we will use."
      ]
    },
    {
      "cell_type": "code",
      "execution_count": null,
      "metadata": {
        "ExecuteTime": {
          "end_time": "2020-05-23T17:09:55.586175Z",
          "start_time": "2020-05-23T17:09:55.572615Z"
        },
        "id": "f7S_mtUphtjL",
        "outputId": "ed566bd8-f45f-4e43-ed4e-f2471d68c152"
      },
      "outputs": [
        {
          "data": {
            "text/latex": [
              "$x \\mapsto \\text{1.0}\\color{LightGray}{ + \\text{0.0}\\,x}\\color{LightGray}{ + \\text{0.0}\\,x^{2}}\\color{LightGray}{ + \\text{0.0}\\,x^{3}} + \\text{1.0}\\,x^{4}$"
            ],
            "text/plain": [
              "Polynomial([1., 0., 0., 0., 1.], domain=[-1,  1], window=[-1,  1])"
            ]
          },
          "execution_count": 12,
          "metadata": {},
          "output_type": "execute_result"
        }
      ],
      "source": [
        "poly_modulo = Polynomial([1,0,0,0,1])\n",
        "poly_modulo"
      ]
    },
    {
      "cell_type": "markdown",
      "metadata": {
        "id": "e8rJUFnLhtjL"
      },
      "source": [
        "Now we can perform multiplication."
      ]
    },
    {
      "cell_type": "code",
      "execution_count": null,
      "metadata": {
        "ExecuteTime": {
          "end_time": "2020-05-23T17:09:55.598563Z",
          "start_time": "2020-05-23T17:09:55.588519Z"
        },
        "id": "3uedxZ5XhtjM"
      },
      "outputs": [],
      "source": [
        "p_mult = p1 * p2 % poly_modulo"
      ]
    },
    {
      "cell_type": "markdown",
      "metadata": {
        "id": "_O6gg_lbhtjM"
      },
      "source": [
        "Finally if we decode it, we can see that we have the expected result."
      ]
    },
    {
      "cell_type": "code",
      "execution_count": null,
      "metadata": {
        "ExecuteTime": {
          "end_time": "2020-05-23T17:09:55.614745Z",
          "start_time": "2020-05-23T17:09:55.601665Z"
        },
        "id": "LZGEy6bUhtjM",
        "outputId": "62a8c208-047f-4748-ac7b-c2bebefbcee8"
      },
      "outputs": [
        {
          "data": {
            "text/plain": [
              "array([  1.-8.67361738e-16j,  -4.+6.86950496e-16j,   9.+6.86950496e-16j,\n",
              "       -16.-9.08301212e-15j])"
            ]
          },
          "execution_count": 14,
          "metadata": {},
          "output_type": "execute_result"
        }
      ],
      "source": [
        "encoder.sigma(p_mult)"
      ]
    },
    {
      "cell_type": "markdown",
      "metadata": {
        "id": "XvhmMJkGhtjM"
      },
      "source": [
        "## CKKS encoding\n",
        "\n",
        "Now that we saw how we can encode complex vectors into polynomials, let's see how it is done in CKKS.\n",
        "\n",
        "The difference with what we did previously, is that the plaintext space of the encoded polynomial is $\\mathcal{R} = \\mathbb{Z}[X]/(X^N + 1)$, therefore the coefficients of the polynomial of encoded values must have integer coefficients, and we saw before that it is not neccessarily the case.\n",
        "\n",
        "To solve this issue, one must first look at the image of the canonical embedding $\\sigma$ on $\\mathcal{R}$.\n",
        "\n",
        "Because polynomials in $\\mathcal{R}$ have integer coefficients, therefore real coefficients, and we evaluate them on complex roots, where half are the conjugates of the other (see the previous figure), we have that :\n",
        "$\\sigma(\\mathcal{R}) \\subseteq \\mathbb{H} = \\{z \\in \\mathbb{C}^{N} : z_j = \\overline{z_{-j}} \\}$. \n",
        "\n",
        "Recall the picture earlier when $M = 8$ :"
      ]
    },
    {
      "cell_type": "markdown",
      "metadata": {
        "id": "mJCv4x7FhtjM"
      },
      "source": [
        "![title](https://raw.githubusercontent.com/dhuynh95/homomorphic_encryption_intro/master/images/roots.PNG)\n",
        "<center>Roots of $X^4 + 1$ (source : <a href=\"https://heat-project.eu/School/Chris%20Peikert/slides-heat2.pdf\">Cryptography from Rings, HEAT summer school 2016)</a></center>"
      ]
    },
    {
      "cell_type": "markdown",
      "metadata": {
        "id": "7x1D4gcChtjM"
      },
      "source": [
        "We can see on this picture that $\\omega^1 = \\overline{\\omega^7}$, and $\\omega^3 = \\overline{\\omega^5}$. In general, this means that because we evaluate a real polynomial on them, we will also have that for any polynomial $m(X) \\in \\mathcal{R}, m(\\xi^j) = \\overline{m(\\xi^{-j} )} = m(\\overline{\\xi^{-j}})$.\n",
        "\n",
        "Therefore, any element of $\\sigma(\\mathcal{R})$ is actually in a space of dimension $N/2$, not $N$. Therefore when we want to encode a vector in CKKS we use complex vectors of size $N/2$, then we need to expand them by copying the other half of conjugate roots.\n",
        "\n",
        "This operation, which takes an element of $\\mathbb{H}$ and projects it to $\\mathbb{C}^{N/2}$ is called $\\pi$ in the CKKS paper. Note that this defines a isomorphism as well. \n",
        "\n",
        "So now we can start with $z \\in \\mathbb{C}^{N/2}$, expand it using $\\pi^{-1}$ (note that $\\pi$ projects, $\\pi^{-1}$ expands), so we get $\\pi^{-1}(z) \\in \\mathbb{H}$.\n",
        "\n",
        "The problem that we have is that we cannot directly use $\\sigma : \\mathcal{R} = \\mathbb{Z}[X]/(X^N +1) \\rightarrow \\sigma(\\mathcal{R}) \\subseteq \\mathbb{H}$, because an element of $\\mathbb{H}$ is not necessarily in $\\sigma(\\mathcal{R})$. $\\sigma$ does define an isomorphism, but only from $\\mathcal{R}$ to $\\sigma(\\mathcal{R})$. To convince yourself that $\\sigma(\\mathcal{R})$ is not equal to $\\mathbb{H}$, you can notice that $\\mathcal{R}$ is countable, therefore $\\sigma(\\mathcal{R})$ as well, but $\\mathbb{H}$ is not, as it is isomorph to $\\mathbb{C}^{N/2}$.\n",
        "\n",
        "This detail is important, because it means that we must find a way to project $\\pi^{-1}(z)$ on $\\sigma(\\mathcal{R})$. To do so, we will use a technique called \"coordinate-wise random rounding\", defined in [A Toolkit for Ring-LWE Cryptography](https://web.eecs.umich.edu/~cpeikert/pubs/toolkit.pdf). \n",
        "\n",
        "The idea is simple, $\\mathcal{R}$ has an orthogonal $\\mathbb{Z}$-basis $\\{1,X,...,X^{N-1} \\}$, and given that $\\sigma$ is an isomorphism, $\\sigma(\\mathcal{R})$ has an orthogonal $\\mathbb{Z}$-basis $\\beta = (b_1,b_2,...,b_N) = (\\sigma(1),\\sigma(X),...,\\sigma(X^{N-1}) )$. Therefore for any $z \\in \\mathbb{H}$, we will simply project it on $\\beta$ :\n",
        "\n",
        "$z = \\sum_{i=1}^{N} z_i b_i$, with $z_i = \\frac{<z, b_i>}{||bi||^2} \\in \\mathbb{R}$ because the basis is orthogonal and not orthonormal. Note that we are using the hermitian product here : $<x,y> = \\sum_{i=1}^{N} x_i \\overline{y_i}$. Here the hermitian product gives real outputs because we apply it on elements of $\\mathbb{H}$, you can compute to convince yourself, or notice that you can find an isometric isomorphism between $\\mathbb{H}$ and $\\mathbb{R}^N$, therefore inner product in $\\mathbb{H}$ will yield real output.\n",
        "\n",
        "Finally once we have the $z_i$, we simply need to round them randomly, to the higher or the lower integer, using the \"coordinate-wise random rounding\".\n",
        "\n",
        "Once we have projected on $\\sigma(\\mathcal{R})$, we can simply apply $\\sigma^{-1}$ which will output an element of $\\mathcal{R}$ which was what we wanted ! \n",
        "\n",
        "One final detail : because the rounding might destroy some significant numbers, we actually need to multply by $\\Delta > 0$ which gives us some precision. \n",
        "\n",
        "So the final encoding procedure is : \n",
        "- take an element of $z \\in \\mathcal{C}^{N/2}$\n",
        "- expand it to $\\pi^{-1}(z) \\in \\mathbb{H}$\n",
        "- multiply it by $\\Delta$ for precision\n",
        "- project it on $\\sigma(\\mathcal{R})$ : $\\lfloor \\Delta . \\pi^{-1}(z) \\rceil_{\\sigma(\\mathcal{R})} \\in \\sigma(\\mathcal{R})$\n",
        "- encode it using $\\sigma$ : $m(X) = \\sigma^{-1} (\\lfloor \\Delta . \\pi^{-1}(z) \\rceil_{\\sigma(\\mathbb{R})}) \\in \\mathcal{R}$.\n",
        "\n",
        "The decoding procedure is much simpler, from a polynomial $m(X)$ we simply get $z = \\pi \\circ \\sigma(\\Delta^{-1} . m)$\n",
        "\n",
        "Pfiou that was long, but that was all the math, now it will be pretty straightforward to implement in the code so let's do it ! "
      ]
    },
    {
      "cell_type": "markdown",
      "metadata": {
        "id": "CJXx4jI-htjM"
      },
      "source": [
        "## Example"
      ]
    },
    {
      "cell_type": "markdown",
      "source": [
        "# New Section"
      ],
      "metadata": {
        "id": "-vniXMPmhwSG"
      }
    },
    {
      "cell_type": "markdown",
      "metadata": {
        "id": "nyohGAT1htjM"
      },
      "source": [
        "Here for the rest of the notebook we choose to keep building upon the `CKKSEncoder` class we have defined earlier. Instead of redefining the class each time we want to add or change methods, we will simply use `patch_to` from the `fastcore` package from [Fastai](https://github.com/fastai/fastai). This allows to monkey patch objects that have already been defined. This is purely for conveniency, and you could just redefine the `CKKSEncoder` at each cell with the added methods."
      ]
    },
    {
      "cell_type": "code",
      "execution_count": null,
      "metadata": {
        "ExecuteTime": {
          "end_time": "2020-05-23T17:09:55.999586Z",
          "start_time": "2020-05-23T17:09:55.617615Z"
        },
        "id": "q2y3KqgMhtjM"
      },
      "outputs": [],
      "source": [
        "# !pip3 install fastcore\n",
        "\n",
        "from fastcore.foundation import patch_to"
      ]
    },
    {
      "cell_type": "code",
      "execution_count": null,
      "metadata": {
        "ExecuteTime": {
          "end_time": "2020-05-23T17:09:56.009762Z",
          "start_time": "2020-05-23T17:09:56.001929Z"
        },
        "id": "cqSfsMJkhtjM"
      },
      "outputs": [],
      "source": [
        "@patch_to(CKKSEncoder)\n",
        "def pi(self, z: np.array) -> np.array:\n",
        "    \"\"\"Projects a vector of H into C^{N/2}.\"\"\"\n",
        "    \n",
        "    N = self.M // 4\n",
        "    return z[:N]\n",
        "\n",
        "@patch_to(CKKSEncoder)\n",
        "def pi_inverse(self, z: np.array) -> np.array:\n",
        "    \"\"\"Expands a vector of C^{N/2} by expanding it with its\n",
        "    complex conjugate.\"\"\"\n",
        "    \n",
        "    z_conjugate = z[::-1]\n",
        "    z_conjugate = [np.conjugate(x) for x in z_conjugate]\n",
        "    return np.concatenate([z, z_conjugate])\n",
        "\n",
        "# We can now initialize our encoder with the added methods\n",
        "encoder = CKKSEncoder(M)"
      ]
    },
    {
      "cell_type": "code",
      "execution_count": null,
      "metadata": {
        "ExecuteTime": {
          "end_time": "2020-05-23T17:09:56.026175Z",
          "start_time": "2020-05-23T17:09:56.014037Z"
        },
        "id": "M8r0Iz6ahtjM"
      },
      "outputs": [],
      "source": [
        "z = np.array([0,1])"
      ]
    },
    {
      "cell_type": "code",
      "execution_count": null,
      "metadata": {
        "ExecuteTime": {
          "end_time": "2020-05-23T17:09:56.042695Z",
          "start_time": "2020-05-23T17:09:56.029673Z"
        },
        "id": "sp8VVhk9htjN",
        "outputId": "a39e0f85-5bbd-4c5f-932f-e275e6ad1097"
      },
      "outputs": [
        {
          "data": {
            "text/plain": [
              "array([0, 1, 1, 0])"
            ]
          },
          "execution_count": 18,
          "metadata": {},
          "output_type": "execute_result"
        }
      ],
      "source": [
        "encoder.pi_inverse(z)"
      ]
    },
    {
      "cell_type": "code",
      "execution_count": null,
      "metadata": {
        "ExecuteTime": {
          "end_time": "2020-05-23T17:09:56.055281Z",
          "start_time": "2020-05-23T17:09:56.046534Z"
        },
        "id": "4ZfOJYAEhtjN"
      },
      "outputs": [],
      "source": [
        "@patch_to(CKKSEncoder)\n",
        "def create_sigma_R_basis(self):\n",
        "    \"\"\"Creates the basis (sigma(1), sigma(X), ..., sigma(X** N-1)).\"\"\"\n",
        "\n",
        "    self.sigma_R_basis = np.array(self.vandermonde(self.xi, self.M)).T\n",
        "    \n",
        "@patch_to(CKKSEncoder)\n",
        "def __init__(self, M):\n",
        "    \"\"\"Initialize with the basis\"\"\"\n",
        "    self.xi = np.exp(2 * np.pi * 1j / M)\n",
        "    self.M = M\n",
        "    self.create_sigma_R_basis()\n",
        "    \n",
        "encoder = CKKSEncoder(M)"
      ]
    },
    {
      "cell_type": "markdown",
      "metadata": {
        "id": "0q2UEY8qhtjN"
      },
      "source": [
        "We can now have a look at the basis $\\sigma(1), \\sigma(X), \\sigma(X^2), \\sigma(X^3)$."
      ]
    },
    {
      "cell_type": "code",
      "execution_count": null,
      "metadata": {
        "ExecuteTime": {
          "end_time": "2020-05-23T17:09:56.075264Z",
          "start_time": "2020-05-23T17:09:56.059839Z"
        },
        "id": "Jbj2oXeLhtjN",
        "outputId": "36a87942-71fd-4e6d-f30d-43afa8038cd2"
      },
      "outputs": [
        {
          "data": {
            "text/plain": [
              "array([[ 1.00000000e+00+0.j        ,  1.00000000e+00+0.j        ,\n",
              "         1.00000000e+00+0.j        ,  1.00000000e+00+0.j        ],\n",
              "       [ 7.07106781e-01+0.70710678j, -7.07106781e-01+0.70710678j,\n",
              "        -7.07106781e-01-0.70710678j,  7.07106781e-01-0.70710678j],\n",
              "       [ 2.22044605e-16+1.j        , -4.44089210e-16-1.j        ,\n",
              "         1.11022302e-15+1.j        , -1.38777878e-15-1.j        ],\n",
              "       [-7.07106781e-01+0.70710678j,  7.07106781e-01+0.70710678j,\n",
              "         7.07106781e-01-0.70710678j, -7.07106781e-01-0.70710678j]])"
            ]
          },
          "execution_count": 20,
          "metadata": {},
          "output_type": "execute_result"
        }
      ],
      "source": [
        "encoder.sigma_R_basis"
      ]
    },
    {
      "cell_type": "markdown",
      "metadata": {
        "id": "vA4u5CE9htjN"
      },
      "source": [
        "Here we will check that elements of $\\mathbb{Z} \\{ \\sigma(1), \\sigma(X), \\sigma(X^2), \\sigma(X^3) \\}$ are encoded as integer polynomials."
      ]
    },
    {
      "cell_type": "code",
      "execution_count": null,
      "metadata": {
        "ExecuteTime": {
          "end_time": "2020-05-23T17:09:56.090570Z",
          "start_time": "2020-05-23T17:09:56.078736Z"
        },
        "id": "nnHNTlpphtjN",
        "outputId": "466f89a2-bafc-40ac-9e02-20df9c28f817"
      },
      "outputs": [
        {
          "data": {
            "text/plain": [
              "array([1.+2.41421356j, 1.+0.41421356j, 1.-0.41421356j, 1.-2.41421356j])"
            ]
          },
          "execution_count": 21,
          "metadata": {},
          "output_type": "execute_result"
        }
      ],
      "source": [
        "# Here we simply take a vector whose coordinates are (1,1,1,1) in the lattice basis\n",
        "coordinates = [1,1,1,1]\n",
        "\n",
        "b = np.matmul(encoder.sigma_R_basis.T, coordinates)\n",
        "b"
      ]
    },
    {
      "cell_type": "markdown",
      "metadata": {
        "id": "RS0as4sZhtjN"
      },
      "source": [
        "We can check now that it does encode to an integer polynomial."
      ]
    },
    {
      "cell_type": "code",
      "execution_count": null,
      "metadata": {
        "ExecuteTime": {
          "end_time": "2020-05-23T17:09:56.106987Z",
          "start_time": "2020-05-23T17:09:56.095166Z"
        },
        "id": "M66_mpe_htjN",
        "outputId": "b5489217-e611-4f99-a12c-8d1712b4a82e"
      },
      "outputs": [
        {
          "data": {
            "text/latex": [
              "$x \\mapsto \\text{(1+2.220446049250313e-16j)} + (\\text{(1+0j)})\\,x + (\\text{(0.9999999999999998+2.7755575615628716e-17j)})\\,x^{2} + (\\text{(1+2.220446049250313e-16j)})\\,x^{3}$"
            ],
            "text/plain": [
              "Polynomial([1.+2.22044605e-16j, 1.+0.00000000e+00j, 1.+2.77555756e-17j,\n",
              "       1.+2.22044605e-16j], domain=[-1,  1], window=[-1,  1])"
            ]
          },
          "execution_count": 22,
          "metadata": {},
          "output_type": "execute_result"
        }
      ],
      "source": [
        "p = encoder.sigma_inverse(b)\n",
        "p"
      ]
    },
    {
      "cell_type": "code",
      "execution_count": null,
      "metadata": {
        "ExecuteTime": {
          "end_time": "2020-05-23T17:09:56.122465Z",
          "start_time": "2020-05-23T17:09:56.111492Z"
        },
        "id": "ngqdBn11htjN"
      },
      "outputs": [],
      "source": [
        "@patch_to(CKKSEncoder)\n",
        "def compute_basis_coordinates(self, z):\n",
        "    \"\"\"Computes the coordinates of a vector with respect to the orthogonal lattice basis.\"\"\"\n",
        "    output = np.array([np.real(np.vdot(z, b) / np.vdot(b,b)) for b in self.sigma_R_basis])\n",
        "    return output\n",
        "\n",
        "def round_coordinates(coordinates):\n",
        "    \"\"\"Gives the integral rest.\"\"\"\n",
        "    coordinates = coordinates - np.floor(coordinates)\n",
        "    return coordinates\n",
        "\n",
        "def coordinate_wise_random_rounding(coordinates):\n",
        "    \"\"\"Rounds coordinates randonmly.\"\"\"\n",
        "    r = round_coordinates(coordinates)\n",
        "    f = np.array([np.random.choice([c, c-1], 1, p=[1-c, c]) for c in r]).reshape(-1)\n",
        "    \n",
        "    rounded_coordinates = coordinates - f\n",
        "    rounded_coordinates = [int(coeff) for coeff in rounded_coordinates]\n",
        "    return rounded_coordinates\n",
        "\n",
        "@patch_to(CKKSEncoder)\n",
        "def sigma_R_discretization(self, z):\n",
        "    \"\"\"Projects a vector on the lattice using coordinate wise random rounding.\"\"\"\n",
        "    coordinates = self.compute_basis_coordinates(z)\n",
        "    \n",
        "    rounded_coordinates = coordinate_wise_random_rounding(coordinates)\n",
        "    y = np.matmul(self.sigma_R_basis.T, rounded_coordinates)\n",
        "    return y\n",
        "\n",
        "encoder = CKKSEncoder(M)"
      ]
    },
    {
      "cell_type": "markdown",
      "metadata": {
        "id": "ozF6KE5chtjN"
      },
      "source": [
        "Finally, because there might be loss of precisions during the rounding step, we had the scale parameter $\\delta$, to allow a fixed level of precision."
      ]
    },
    {
      "cell_type": "code",
      "execution_count": null,
      "metadata": {
        "ExecuteTime": {
          "end_time": "2020-05-23T17:09:56.137266Z",
          "start_time": "2020-05-23T17:09:56.127876Z"
        },
        "id": "UCmlfpKZhtjN"
      },
      "outputs": [],
      "source": [
        "@patch_to(CKKSEncoder)\n",
        "def __init__(self, M:int, scale:float):\n",
        "    \"\"\"Initializes with scale.\"\"\"\n",
        "    self.xi = np.exp(2 * np.pi * 1j / M)\n",
        "    self.M = M\n",
        "    self.create_sigma_R_basis()\n",
        "    self.scale = scale\n",
        "    \n",
        "@patch_to(CKKSEncoder)\n",
        "def encode(self, z: np.array) -> Polynomial:\n",
        "    \"\"\"Encodes a vector by expanding it first to H,\n",
        "    scale it, project it on the lattice of sigma(R), and performs\n",
        "    sigma inverse.\n",
        "    \"\"\"\n",
        "    pi_z = self.pi_inverse(z)\n",
        "    scaled_pi_z = self.scale * pi_z\n",
        "    rounded_scale_pi_zi = self.sigma_R_discretization(scaled_pi_z)\n",
        "    p = self.sigma_inverse(rounded_scale_pi_zi)\n",
        "    \n",
        "    # We round it afterwards due to numerical imprecision\n",
        "    coef = np.round(np.real(p.coef)).astype(int)\n",
        "    p = Polynomial(coef)\n",
        "    return p\n",
        "\n",
        "@patch_to(CKKSEncoder)\n",
        "def decode(self, p: Polynomial) -> np.array:\n",
        "    \"\"\"Decodes a polynomial by removing the scale, \n",
        "    evaluating on the roots, and project it on C^(N/2)\"\"\"\n",
        "    rescaled_p = p / self.scale\n",
        "    z = self.sigma(rescaled_p)\n",
        "    pi_z = self.pi(z)\n",
        "    return pi_z\n",
        "\n",
        "scale = 64\n",
        "\n",
        "encoder = CKKSEncoder(M, scale)"
      ]
    },
    {
      "cell_type": "markdown",
      "metadata": {
        "id": "Y5EUyOpLhtjN"
      },
      "source": [
        "We can now see it on action, the full encoder used by CKKS : "
      ]
    },
    {
      "cell_type": "code",
      "execution_count": null,
      "metadata": {
        "ExecuteTime": {
          "end_time": "2020-05-23T17:09:56.154616Z",
          "start_time": "2020-05-23T17:09:56.142612Z"
        },
        "id": "goF2bcrHhtjO",
        "outputId": "f65b307a-bc20-4021-d9d1-572d851d2872"
      },
      "outputs": [
        {
          "data": {
            "text/plain": [
              "array([3.+4.j, 2.-1.j])"
            ]
          },
          "execution_count": 25,
          "metadata": {},
          "output_type": "execute_result"
        }
      ],
      "source": [
        "z = np.array([3 +4j, 2 - 1j])\n",
        "z"
      ]
    },
    {
      "cell_type": "markdown",
      "metadata": {
        "id": "kF6nM1ZyhtjO"
      },
      "source": [
        "We can see that we now have an integer polynomial as our encoding."
      ]
    },
    {
      "cell_type": "code",
      "execution_count": null,
      "metadata": {
        "ExecuteTime": {
          "end_time": "2020-05-23T17:09:56.174750Z",
          "start_time": "2020-05-23T17:09:56.158397Z"
        },
        "id": "PJDhrDgohtjO",
        "outputId": "79da9563-c6e3-40fc-f934-d3c1321aad8b"
      },
      "outputs": [
        {
          "data": {
            "text/latex": [
              "$x \\mapsto \\text{160.0} + \\text{90.0}\\,x + \\text{160.0}\\,x^{2} + \\text{45.0}\\,x^{3}$"
            ],
            "text/plain": [
              "Polynomial([160.,  90., 160.,  45.], domain=[-1,  1], window=[-1,  1])"
            ]
          },
          "execution_count": 26,
          "metadata": {},
          "output_type": "execute_result"
        }
      ],
      "source": [
        "p = encoder.encode(z)\n",
        "p"
      ]
    },
    {
      "cell_type": "markdown",
      "metadata": {
        "id": "BVhoU71mhtjO"
      },
      "source": [
        "And it actually decodes well ! "
      ]
    },
    {
      "cell_type": "code",
      "execution_count": null,
      "metadata": {
        "ExecuteTime": {
          "end_time": "2020-05-23T17:09:56.205155Z",
          "start_time": "2020-05-23T17:09:56.191067Z"
        },
        "id": "e6m3sqXchtjO",
        "outputId": "2fa83794-c2f5-468c-f14b-6961ad2ea5b1"
      },
      "outputs": [
        {
          "data": {
            "text/plain": [
              "array([2.99718446+3.99155337j, 2.00281554-1.00844663j])"
            ]
          },
          "execution_count": 28,
          "metadata": {},
          "output_type": "execute_result"
        }
      ],
      "source": [
        "encoder.decode(p)"
      ]
    },
    {
      "cell_type": "markdown",
      "metadata": {
        "id": "lFPLz5H0htjO"
      },
      "source": [
        "If you do not like to use `patch_to` or want to have the actual full code for the CKKSEncoder, here is the full class : "
      ]
    },
    {
      "cell_type": "code",
      "execution_count": null,
      "metadata": {
        "ExecuteTime": {
          "end_time": "2020-05-23T17:09:56.235474Z",
          "start_time": "2020-05-23T17:09:56.210037Z"
        },
        "id": "kJPJdZY8htjO"
      },
      "outputs": [],
      "source": [
        "from numpy.polynomial import Polynomial\n",
        "import numpy as np\n",
        "\n",
        "def round_coordinates(coordinates):\n",
        "    \"\"\"Gives the integral rest.\"\"\"\n",
        "    coordinates = coordinates - np.floor(coordinates)\n",
        "    return coordinates\n",
        "\n",
        "def coordinate_wise_random_rounding(coordinates):\n",
        "    \"\"\"Rounds coordinates randonmly.\"\"\"\n",
        "    r = round_coordinates(coordinates)\n",
        "    f = np.array([np.random.choice([c, c-1], 1, p=[1-c, c]) for c in r]).reshape(-1)\n",
        "    \n",
        "    rounded_coordinates = coordinates - f\n",
        "    rounded_coordinates = [int(coeff) for coeff in rounded_coordinates]\n",
        "    return rounded_coordinates\n",
        "\n",
        "class CKKSEncoder:\n",
        "    \"\"\"Basic CKKS encoder to encode complex vectors into polynomials.\"\"\"\n",
        "    \n",
        "    def __init__(self, M:int, scale:float):\n",
        "        \"\"\"Initializes with scale.\"\"\"\n",
        "        self.xi = np.exp(2 * np.pi * 1j / M)\n",
        "        self.M = M\n",
        "        self.create_sigma_R_basis()\n",
        "        self.scale = scale\n",
        "        \n",
        "    @staticmethod\n",
        "    def vandermonde(xi: np.complex128, M: int) -> np.array:\n",
        "        \"\"\"Computes the Vandermonde matrix from a m-th root of unity.\"\"\"\n",
        "        \n",
        "        N = M //2\n",
        "        matrix = []\n",
        "        # We will generate each row of the matrix\n",
        "        for i in range(N):\n",
        "            # For each row we select a different root\n",
        "            root = xi ** (2 * i + 1)\n",
        "            row = []\n",
        "\n",
        "            # Then we store its powers\n",
        "            for j in range(N):\n",
        "                row.append(root ** j)\n",
        "            matrix.append(row)\n",
        "        return matrix\n",
        "    \n",
        "    def sigma_inverse(self, b: np.array) -> Polynomial:\n",
        "        \"\"\"Encodes the vector b in a polynomial using an M-th root of unity.\"\"\"\n",
        "\n",
        "        # First we create the Vandermonde matrix\n",
        "        A = CKKSEncoder.vandermonde(self.xi, M)\n",
        "\n",
        "        # Then we solve the system\n",
        "        coeffs = np.linalg.solve(A, b)\n",
        "\n",
        "        # Finally we output the polynomial\n",
        "        p = Polynomial(coeffs)\n",
        "        return p\n",
        "\n",
        "    def sigma(self, p: Polynomial) -> np.array:\n",
        "        \"\"\"Decodes a polynomial by applying it to the M-th roots of unity.\"\"\"\n",
        "\n",
        "        outputs = []\n",
        "        N = self.M //2\n",
        "\n",
        "        # We simply apply the polynomial on the roots\n",
        "        for i in range(N):\n",
        "            root = self.xi ** (2 * i + 1)\n",
        "            output = p(root)\n",
        "            outputs.append(output)\n",
        "        return np.array(outputs)\n",
        "    \n",
        "\n",
        "    def pi(self, z: np.array) -> np.array:\n",
        "        \"\"\"Projects a vector of H into C^{N/2}.\"\"\"\n",
        "\n",
        "        N = self.M // 4\n",
        "        return z[:N]\n",
        "\n",
        "\n",
        "    def pi_inverse(self, z: np.array) -> np.array:\n",
        "        \"\"\"Expands a vector of C^{N/2} by expanding it with its\n",
        "        complex conjugate.\"\"\"\n",
        "\n",
        "        z_conjugate = z[::-1]\n",
        "        z_conjugate = [np.conjugate(x) for x in z_conjugate]\n",
        "        return np.concatenate([z, z_conjugate])\n",
        "    \n",
        "    def create_sigma_R_basis(self):\n",
        "        \"\"\"Creates the basis (sigma(1), sigma(X), ..., sigma(X** N-1)).\"\"\"\n",
        "\n",
        "        self.sigma_R_basis = np.array(self.vandermonde(self.xi, self.M)).T\n",
        "    \n",
        "\n",
        "    def compute_basis_coordinates(self, z):\n",
        "        \"\"\"Computes the coordinates of a vector with respect to the orthogonal lattice basis.\"\"\"\n",
        "        output = np.array([np.real(np.vdot(z, b) / np.vdot(b,b)) for b in self.sigma_R_basis])\n",
        "        return output\n",
        "\n",
        "    def sigma_R_discretization(self, z):\n",
        "        \"\"\"Projects a vector on the lattice using coordinate wise random rounding.\"\"\"\n",
        "        coordinates = self.compute_basis_coordinates(z)\n",
        "\n",
        "        rounded_coordinates = coordinate_wise_random_rounding(coordinates)\n",
        "        y = np.matmul(self.sigma_R_basis.T, rounded_coordinates)\n",
        "        return y\n",
        "\n",
        "\n",
        "    def encode(self, z: np.array) -> Polynomial:\n",
        "        \"\"\"Encodes a vector by expanding it first to H,\n",
        "        scale it, project it on the lattice of sigma(R), and performs\n",
        "        sigma inverse.\n",
        "        \"\"\"\n",
        "        pi_z = self.pi_inverse(z)\n",
        "        scaled_pi_z = self.scale * pi_z\n",
        "        rounded_scale_pi_zi = self.sigma_R_discretization(scaled_pi_z)\n",
        "        p = self.sigma_inverse(rounded_scale_pi_zi)\n",
        "\n",
        "        # We round it afterwards due to numerical imprecision\n",
        "        coef = np.round(np.real(p.coef)).astype(int)\n",
        "        p = Polynomial(coef)\n",
        "        return p\n",
        "\n",
        "\n",
        "    def decode(self, p: Polynomial) -> np.array:\n",
        "        \"\"\"Decodes a polynomial by removing the scale, \n",
        "        evaluating on the roots, and project it on C^(N/2)\"\"\"\n",
        "        rescaled_p = p / self.scale\n",
        "        z = self.sigma(rescaled_p)\n",
        "        pi_z = self.pi(z)\n",
        "        return pi_z"
      ]
    },
    {
      "cell_type": "markdown",
      "metadata": {
        "id": "APlLHQkohtjO"
      },
      "source": [
        "So I hope you enjoyed this little introduction to encoding complex numbers into polynomials for homomorphic encryption. We will deep dive into this further in the following articles so stay tuned !"
      ]
    }
  ],
  "metadata": {
    "kernelspec": {
      "display_name": "Python 3",
      "language": "python",
      "name": "python3"
    },
    "language_info": {
      "codemirror_mode": {
        "name": "ipython",
        "version": 3
      },
      "file_extension": ".py",
      "mimetype": "text/x-python",
      "name": "python",
      "nbconvert_exporter": "python",
      "pygments_lexer": "ipython3",
      "version": "3.8.2"
    },
    "toc": {
      "base_numbering": 1,
      "nav_menu": {},
      "number_sections": true,
      "sideBar": true,
      "skip_h1_title": false,
      "title_cell": "Table of Contents",
      "title_sidebar": "Contents",
      "toc_cell": false,
      "toc_position": {},
      "toc_section_display": true,
      "toc_window_display": false
    },
    "colab": {
      "provenance": [],
      "toc_visible": true,
      "include_colab_link": true
    }
  },
  "nbformat": 4,
  "nbformat_minor": 0
}